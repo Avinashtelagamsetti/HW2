{
 "cells": [
  {
   "cell_type": "code",
   "execution_count": 1,
   "id": "e7a25f72-68b4-4b1b-8936-57b6370506c4",
   "metadata": {},
   "outputs": [
    {
     "data": {
      "text/html": [
       "\n",
       "            <div>\n",
       "                <ins><a href=\"https://ydata.ai/register\">Upgrade to ydata-sdk</a></ins>\n",
       "                <p>\n",
       "                    Improve your data and profiling with ydata-sdk, featuring data quality scoring, redundancy detection, outlier identification, text validation, and synthetic data generation.\n",
       "                </p>\n",
       "            </div>\n",
       "            "
      ],
      "text/plain": [
       "<IPython.core.display.HTML object>"
      ]
     },
     "metadata": {},
     "output_type": "display_data"
    },
    {
     "data": {
      "application/vnd.jupyter.widget-view+json": {
       "model_id": "e50fde6fe2f54707a60bff69d89eaec7",
       "version_major": 2,
       "version_minor": 0
      },
      "text/plain": [
       "Summarize dataset:   0%|          | 0/5 [00:00<?, ?it/s]"
      ]
     },
     "metadata": {},
     "output_type": "display_data"
    },
    {
     "name": "stderr",
     "output_type": "stream",
     "text": [
      "\n",
      "100%|███████████████████████████████████████████████████████████████████████████████████████████████████████████████████████████████████████████████████████████████████████████████████████████████████████████████| 4/4 [00:00<00:00, 62.04it/s]\u001b[A\n"
     ]
    },
    {
     "data": {
      "application/vnd.jupyter.widget-view+json": {
       "model_id": "3dfb2c3cfd9d401e95a550f99e4c40ef",
       "version_major": 2,
       "version_minor": 0
      },
      "text/plain": [
       "Generate report structure:   0%|          | 0/1 [00:00<?, ?it/s]"
      ]
     },
     "metadata": {},
     "output_type": "display_data"
    },
    {
     "data": {
      "application/vnd.jupyter.widget-view+json": {
       "model_id": "880e4d8638634bfb8c2dfac5263685f3",
       "version_major": 2,
       "version_minor": 0
      },
      "text/plain": [
       "Render HTML:   0%|          | 0/1 [00:00<?, ?it/s]"
      ]
     },
     "metadata": {},
     "output_type": "display_data"
    },
    {
     "data": {
      "application/vnd.jupyter.widget-view+json": {
       "model_id": "c48f5538da1447bfa56ccf5b00f08283",
       "version_major": 2,
       "version_minor": 0
      },
      "text/plain": [
       "Export report to file:   0%|          | 0/1 [00:00<?, ?it/s]"
      ]
     },
     "metadata": {},
     "output_type": "display_data"
    }
   ],
   "source": [
    "import pandas as pd\n",
    "from ydata_profiling import ProfileReport\n",
    "\n",
    "df = pd.read_csv('/Users/avinashtelagamsetti/Desktop/HW 2 Data Mining/red_wine.csv')\n",
    "profile = ProfileReport(df, title='Red Wine Data Report')\n",
    "profile.to_file(\"/Users/avinashtelagamsetti/Desktop/HW 2 Data Mining/red_wine_report.html\")\n"
   ]
  },
  {
   "cell_type": "code",
   "execution_count": 5,
   "id": "08d17309-493d-48e7-a688-e48c282caa57",
   "metadata": {},
   "outputs": [
    {
     "name": "stdout",
     "output_type": "stream",
     "text": [
      "   citric acid  sulphates  alcohol  type\n",
      "0         0.49       0.63      8.0   low\n",
      "1         0.66       0.57      8.3   low\n",
      "2         0.23       0.44      8.5  high\n",
      "3         0.44       0.84      8.6   low\n",
      "4         0.08       0.50      8.7   low\n",
      "['low' 'high']\n",
      "   citric acid  sulphates  alcohol\n",
      "0         0.49       0.63      8.0\n",
      "1         0.66       0.57      8.3\n",
      "2         0.23       0.44      8.5\n",
      "3         0.44       0.84      8.6\n",
      "4         0.08       0.50      8.7\n",
      "0    0\n",
      "1    0\n",
      "2    1\n",
      "3    0\n",
      "4    0\n",
      "Name: type, dtype: int64\n",
      "                          AUC  Accuracy\n",
      "Baseline             0.500000  0.528887\n",
      "Logistic Regression  0.879902  0.784785\n",
      "Naive Bayes          0.895408  0.821627\n",
      "Decision Tree        0.754824  0.737477\n",
      "SVM-Linear           0.881489  0.793587\n",
      "SVM-RBF              0.868920  0.535844\n",
      "Random Forest        0.893750  0.795312\n"
     ]
    }
   ],
   "source": [
    "import pandas as pd\n",
    "from sklearn.model_selection import cross_val_score, StratifiedKFold\n",
    "from sklearn.linear_model import LogisticRegression\n",
    "from sklearn.naive_bayes import GaussianNB\n",
    "from sklearn.tree import DecisionTreeClassifier\n",
    "from sklearn.svm import SVC\n",
    "from sklearn.ensemble import RandomForestClassifier\n",
    "from sklearn.dummy import DummyClassifier\n",
    "\n",
    "import pandas as pd\n",
    "\n",
    "# Load red wine data\n",
    "df = pd.read_csv('/Users/avinashtelagamsetti/Desktop/HW 2 Data Mining/red_wine.csv')\n",
    "\n",
    "# Print to confirm\n",
    "print(df.head())\n",
    "print(df['type'].unique())  # should show ['high', 'low']\n",
    "\n",
    "# Define features (X) and label (y)\n",
    "X = df.drop('type', axis=1)\n",
    "y = df['type'].map({'low': 0, 'high': 1})  # converts target to 0 and 1\n",
    "\n",
    "print(X.head())\n",
    "print(y.head())\n",
    "\n",
    "\n",
    "# Define models\n",
    "models = {\n",
    "    'Baseline': DummyClassifier(strategy='most_frequent'),\n",
    "    'Logistic Regression': LogisticRegression(max_iter=1000),\n",
    "    'Naive Bayes': GaussianNB(),\n",
    "    'Decision Tree': DecisionTreeClassifier(),\n",
    "    'SVM-Linear': SVC(kernel='linear', probability=True),\n",
    "    'SVM-RBF': SVC(kernel='rbf', probability=True),\n",
    "    'Random Forest': RandomForestClassifier()\n",
    "}\n",
    "\n",
    "# Cross-validation\n",
    "results = {}\n",
    "cv = StratifiedKFold(n_splits=10)\n",
    "\n",
    "for name, model in models.items():\n",
    "    auc = cross_val_score(model, X, y, cv=cv, scoring='roc_auc').mean()\n",
    "    accuracy = cross_val_score(model, X, y, cv=cv, scoring='accuracy').mean()\n",
    "    results[name] = {'AUC': auc, 'Accuracy': accuracy}\n",
    "\n",
    "results_df = pd.DataFrame(results).T\n",
    "print(results_df)"
   ]
  },
  {
   "cell_type": "code",
   "execution_count": 13,
   "id": "011b9a74-faaf-425a-a472-14d807b3e8f3",
   "metadata": {},
   "outputs": [
    {
     "data": {
      "image/png": "[encoded data removed]",
      "text/plain": [
       "<Figure size 640x480 with 1 Axes>"
      ]
     },
     "metadata": {},
     "output_type": "display_data"
    }
   ],
   "source": [
    "%matplotlib inline\n",
    "from sklearn.metrics import roc_curve, auc\n",
    "from sklearn.model_selection import train_test_split\n",
    "import matplotlib.pyplot as plt\n",
    "\n",
    "X_train, X_test, y_train, y_test = train_test_split(X, y, stratify=y, test_size=0.3)\n",
    "rf = RandomForestClassifier()\n",
    "rf.fit(X_train, y_train)\n",
    "\n",
    "y_proba = rf.predict_proba(X_test)[:,1]\n",
    "fpr, tpr, _ = roc_curve(y_test, y_proba)\n",
    "roc_auc = auc(fpr, tpr)\n",
    "\n",
    "plt.plot(fpr, tpr, label=f'ROC curve (area = {roc_auc:.2f})')\n",
    "plt.plot([0, 1], [0, 1], '--')\n",
    "plt.xlabel('False Positive Rate')\n",
    "plt.ylabel('True Positive Rate')\n",
    "plt.title('Random Forest ROC Curve')\n",
    "plt.legend()\n",
    "plt.show()"
   ]
  },
  {
   "cell_type": "code",
   "execution_count": 17,
   "id": "bd38198e-3db4-4445-a193-ddcbe4f460ee",
   "metadata": {},
   "outputs": [
    {
     "name": "stdout",
     "output_type": "stream",
     "text": [
      "Naive Bayes AUC on White Wine Dataset: 0.9489\n"
     ]
    }
   ],
   "source": [
    "import pandas as pd\n",
    "from sklearn.naive_bayes import GaussianNB\n",
    "from sklearn.metrics import roc_auc_score\n",
    "\n",
    "# Load red wine dataset\n",
    "df_red = pd.read_csv('/Users/avinashtelagamsetti/Desktop/HW 2 Data Mining/red_wine.csv')\n",
    "X_red = df_red.drop('type', axis=1)\n",
    "y_red = df_red['type'].map({'low': 0, 'high': 1})\n",
    "\n",
    "# Load white wine dataset\n",
    "df_white = pd.read_csv('/Users/avinashtelagamsetti/Desktop/HW 2 Data Mining/white_wine.csv')\n",
    "X_white = df_white.drop('type', axis=1)\n",
    "y_white = df_white['type'].map({'low': 0, 'high': 1})\n",
    "\n",
    "# Train Naive Bayes model on red wine\n",
    "nb_model = GaussianNB()\n",
    "nb_model.fit(X_red, y_red)\n",
    "\n",
    "# Predict probabilities on white wine\n",
    "y_white_pred_proba = nb_model.predict_proba(X_white)[:, 1]\n",
    "\n",
    "# Calculate AUC\n",
    "auc_score = roc_auc_score(y_white, y_white_pred_proba)\n",
    "print(\"Naive Bayes AUC on White Wine Dataset:\", round(auc_score, 4))"
   ]
  },
  {
   "cell_type": "code",
   "execution_count": null,
   "id": "de166aed-6021-4222-b7f9-e86633f75d19",
   "metadata": {},
   "outputs": [],
   "source": []
  }
 ],
 "metadata": {
  "kernelspec": {
   "display_name": "Python [conda env:base] *",
   "language": "python",
   "name": "conda-base-py"
  },
  "language_info": {
   "codemirror_mode": {
    "name": "ipython",
    "version": 3
   },
   "file_extension": ".py",
   "mimetype": "text/x-python",
   "name": "python",
   "nbconvert_exporter": "python",
   "pygments_lexer": "ipython3",
   "version": "3.12.7"
  }
 },
 "nbformat": 4,
 "nbformat_minor": 5
}
